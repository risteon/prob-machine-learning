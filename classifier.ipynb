{
 "cells": [
  {
   "cell_type": "code",
   "execution_count": 1,
   "id": "69305910",
   "metadata": {},
   "outputs": [],
   "source": [
    "import numpy as np\n",
    "import scipy.stats"
   ]
  },
  {
   "cell_type": "markdown",
   "id": "eb4dd425",
   "metadata": {},
   "source": [
    "### Naive Bayes\n",
    "\n",
    "Features: $\\mathbf{x}=(x_1,\\dots,x_n)$\n",
    "\n",
    "Classes: $(C_1,\\dots,C_K)$\n",
    "\n",
    "Naive Bayes assignes probabilities: $p(C_k|x_1,\\dots,x_n)$\n",
    "\n",
    "Naive Bayes assumption:\n",
    "\\begin{align}\n",
    "p(C_k|\\mathbf{x}) \\propto p(C_k) \\, \\prod_{i=1}^n p(x_i|C_k)\n",
    "\\end{align}"
   ]
  },
  {
   "cell_type": "code",
   "execution_count": 7,
   "id": "c9e05742",
   "metadata": {},
   "outputs": [],
   "source": [
    "x1_c1 = scipy.stats.norm(loc=1.0, scale=0.7)\n",
    "x1_c2 = scipy.stats.norm(loc=-1.0, scale=0.7)\n",
    "x2_c1 = scipy.stats.norm(loc=-1.0, scale=0.7)\n",
    "x2_c2 = scipy.stats.norm(loc=-1.0, scale=0.7)\n",
    "\n",
    "distr = [[x1_c1, x1_c2], [x2_c1, x2_c2]]"
   ]
  },
  {
   "cell_type": "code",
   "execution_count": 12,
   "id": "73dea6c4",
   "metadata": {},
   "outputs": [],
   "source": [
    "c1 = scipy.stats.multivariate_normal(mean=[0.25, 0.6])"
   ]
  },
  {
   "cell_type": "code",
   "execution_count": 13,
   "id": "550cab4b",
   "metadata": {},
   "outputs": [],
   "source": [
    "n_samples = [100, 100]\n",
    "for k, c in enumerate(n_samples):\n",
    "    pass"
   ]
  },
  {
   "cell_type": "code",
   "execution_count": null,
   "id": "d797a065",
   "metadata": {},
   "outputs": [],
   "source": []
  },
  {
   "cell_type": "code",
   "execution_count": null,
   "id": "46960569",
   "metadata": {},
   "outputs": [],
   "source": []
  },
  {
   "cell_type": "code",
   "execution_count": 4,
   "id": "34ca8a0a",
   "metadata": {},
   "outputs": [],
   "source": [
    "import seaborn as sns"
   ]
  },
  {
   "cell_type": "code",
   "execution_count": 5,
   "id": "2aa43cf2",
   "metadata": {},
   "outputs": [
    {
     "data": {
      "text/plain": [
       "seaborn.axisgrid.PairGrid"
      ]
     },
     "execution_count": 5,
     "metadata": {},
     "output_type": "execute_result"
    }
   ],
   "source": [
    "sns.PairGrid"
   ]
  },
  {
   "cell_type": "code",
   "execution_count": null,
   "id": "8170080e",
   "metadata": {},
   "outputs": [],
   "source": []
  }
 ],
 "metadata": {
  "kernelspec": {
   "display_name": "Python 3",
   "language": "python",
   "name": "python3"
  },
  "language_info": {
   "codemirror_mode": {
    "name": "ipython",
    "version": 3
   },
   "file_extension": ".py",
   "mimetype": "text/x-python",
   "name": "python",
   "nbconvert_exporter": "python",
   "pygments_lexer": "ipython3",
   "version": "3.8.10"
  }
 },
 "nbformat": 4,
 "nbformat_minor": 5
}
